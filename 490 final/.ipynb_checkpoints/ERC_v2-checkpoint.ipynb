{
 "cells": [
  {
   "cell_type": "markdown",
   "metadata": {
    "id": "7jxpbNqoMpie"
   },
   "source": [
    "# Preparation for ERC v2"
   ]
  },
  {
   "cell_type": "code",
   "execution_count": null,
   "metadata": {
    "colab": {
     "base_uri": "https://localhost:8080/"
    },
    "id": "H6Y-i9FJ35Iv",
    "outputId": "69e4ae86-10b6-46a8-dfd1-c99f57efa573"
   },
   "outputs": [
    {
     "name": "stdout",
     "output_type": "stream",
     "text": [
      "Requirement already satisfied: transformers==4.12.5 in /usr/local/lib/python3.7/dist-packages (4.12.5)\n",
      "Requirement already satisfied: huggingface-hub<1.0,>=0.1.0 in /usr/local/lib/python3.7/dist-packages (from transformers==4.12.5) (0.2.1)\n",
      "Requirement already satisfied: filelock in /usr/local/lib/python3.7/dist-packages (from transformers==4.12.5) (3.4.0)\n",
      "Requirement already satisfied: packaging>=20.0 in /usr/local/lib/python3.7/dist-packages (from transformers==4.12.5) (21.3)\n",
      "Requirement already satisfied: requests in /usr/local/lib/python3.7/dist-packages (from transformers==4.12.5) (2.23.0)\n",
      "Requirement already satisfied: sacremoses in /usr/local/lib/python3.7/dist-packages (from transformers==4.12.5) (0.0.46)\n",
      "Requirement already satisfied: tokenizers<0.11,>=0.10.1 in /usr/local/lib/python3.7/dist-packages (from transformers==4.12.5) (0.10.3)\n",
      "Requirement already satisfied: importlib-metadata in /usr/local/lib/python3.7/dist-packages (from transformers==4.12.5) (4.8.2)\n",
      "Requirement already satisfied: regex!=2019.12.17 in /usr/local/lib/python3.7/dist-packages (from transformers==4.12.5) (2019.12.20)\n",
      "Requirement already satisfied: numpy>=1.17 in /usr/local/lib/python3.7/dist-packages (from transformers==4.12.5) (1.19.5)\n",
      "Requirement already satisfied: pyyaml>=5.1 in /usr/local/lib/python3.7/dist-packages (from transformers==4.12.5) (6.0)\n",
      "Requirement already satisfied: tqdm>=4.27 in /usr/local/lib/python3.7/dist-packages (from transformers==4.12.5) (4.62.3)\n",
      "Requirement already satisfied: typing-extensions>=3.7.4.3 in /usr/local/lib/python3.7/dist-packages (from huggingface-hub<1.0,>=0.1.0->transformers==4.12.5) (3.10.0.2)\n",
      "Requirement already satisfied: pyparsing!=3.0.5,>=2.0.2 in /usr/local/lib/python3.7/dist-packages (from packaging>=20.0->transformers==4.12.5) (3.0.6)\n",
      "Requirement already satisfied: zipp>=0.5 in /usr/local/lib/python3.7/dist-packages (from importlib-metadata->transformers==4.12.5) (3.6.0)\n",
      "Requirement already satisfied: chardet<4,>=3.0.2 in /usr/local/lib/python3.7/dist-packages (from requests->transformers==4.12.5) (3.0.4)\n",
      "Requirement already satisfied: urllib3!=1.25.0,!=1.25.1,<1.26,>=1.21.1 in /usr/local/lib/python3.7/dist-packages (from requests->transformers==4.12.5) (1.24.3)\n",
      "Requirement already satisfied: certifi>=2017.4.17 in /usr/local/lib/python3.7/dist-packages (from requests->transformers==4.12.5) (2021.10.8)\n",
      "Requirement already satisfied: idna<3,>=2.5 in /usr/local/lib/python3.7/dist-packages (from requests->transformers==4.12.5) (2.10)\n",
      "Requirement already satisfied: six in /usr/local/lib/python3.7/dist-packages (from sacremoses->transformers==4.12.5) (1.15.0)\n",
      "Requirement already satisfied: joblib in /usr/local/lib/python3.7/dist-packages (from sacremoses->transformers==4.12.5) (1.1.0)\n",
      "Requirement already satisfied: click in /usr/local/lib/python3.7/dist-packages (from sacremoses->transformers==4.12.5) (7.1.2)\n",
      "Requirement already satisfied: torch==1.10.0 in /usr/local/lib/python3.7/dist-packages (1.10.0+cu111)\n",
      "Requirement already satisfied: typing-extensions in /usr/local/lib/python3.7/dist-packages (from torch==1.10.0) (3.10.0.2)\n",
      "Requirement already satisfied: torchtext==0.11.0 in /usr/local/lib/python3.7/dist-packages (0.11.0)\n",
      "Requirement already satisfied: tqdm in /usr/local/lib/python3.7/dist-packages (from torchtext==0.11.0) (4.62.3)\n",
      "Requirement already satisfied: torch==1.10.0 in /usr/local/lib/python3.7/dist-packages (from torchtext==0.11.0) (1.10.0+cu111)\n",
      "Requirement already satisfied: requests in /usr/local/lib/python3.7/dist-packages (from torchtext==0.11.0) (2.23.0)\n",
      "Requirement already satisfied: numpy in /usr/local/lib/python3.7/dist-packages (from torchtext==0.11.0) (1.19.5)\n",
      "Requirement already satisfied: typing-extensions in /usr/local/lib/python3.7/dist-packages (from torch==1.10.0->torchtext==0.11.0) (3.10.0.2)\n",
      "Requirement already satisfied: idna<3,>=2.5 in /usr/local/lib/python3.7/dist-packages (from requests->torchtext==0.11.0) (2.10)\n",
      "Requirement already satisfied: chardet<4,>=3.0.2 in /usr/local/lib/python3.7/dist-packages (from requests->torchtext==0.11.0) (3.0.4)\n",
      "Requirement already satisfied: certifi>=2017.4.17 in /usr/local/lib/python3.7/dist-packages (from requests->torchtext==0.11.0) (2021.10.8)\n",
      "Requirement already satisfied: urllib3!=1.25.0,!=1.25.1,<1.26,>=1.21.1 in /usr/local/lib/python3.7/dist-packages (from requests->torchtext==0.11.0) (1.24.3)\n"
     ]
    }
   ],
   "source": [
    "!pip3 install transformers==4.12.5\n",
    "!pip3 install torch==1.10.0\n",
    "!pip3 install torchtext==0.11.0"
   ]
  },
  {
   "cell_type": "code",
   "execution_count": null,
   "metadata": {
    "id": "aCXiKXwq0TL6"
   },
   "outputs": [],
   "source": [
    "import os\n",
    "from google.colab import drive\n",
    "\n",
    "import string\n",
    "import random\n",
    "import csv\n",
    "\n",
    "import torch\n",
    "import torch.nn as nn\n",
    "\n",
    "import ipywidgets as widgets\n",
    "from IPython.display import display as widgets_display\n",
    "\n",
    "import pandas as pd\n",
    "import numpy as np\n",
    "import matplotlib.pyplot as plt\n",
    "\n",
    "from sklearn import metrics\n",
    "import seaborn\n",
    "\n",
    "from torchtext.legacy import data\n",
    "from torchtext.legacy.data import TabularDataset, BucketIterator, Iterator\n",
    "\n",
    "from transformers import BertTokenizer, BertForSequenceClassification\n",
    "import torch.optim as optim"
   ]
  },
  {
   "cell_type": "code",
   "execution_count": null,
   "metadata": {
    "id": "lA2SiTC-52nM"
   },
   "outputs": [],
   "source": [
    "device = torch.device(\"cuda\" if torch.cuda.is_available() else \"cpu\")"
   ]
  },
  {
   "cell_type": "code",
   "execution_count": null,
   "metadata": {
    "id": "3BpGzo4cd9vA"
   },
   "outputs": [],
   "source": [
    "working_path = '/content/drive/MyDrive/UMass/CS 490A - 2021 09 Fall/Final - ERC'"
   ]
  },
  {
   "cell_type": "markdown",
   "metadata": {
    "id": "L5b1chW33ufM"
   },
   "source": [
    "### Mount the drive"
   ]
  },
  {
   "cell_type": "code",
   "execution_count": null,
   "metadata": {
    "id": "bWT9xdpN-C-f"
   },
   "outputs": [],
   "source": [
    "global drivemount_status\n",
    "drivemount_status = True if os.path.isdir('/content/drive/MyDrive') else False\n",
    "\n",
    "global erc_root_folder\n",
    "erc_root_folder = (working_path + '/Root') if drivemount_status else '/content'\n",
    "\n",
    "global model_temp_folder\n",
    "model_temp_folder = (working_path + '/Model_Temp') if drivemount_status else '/content'"
   ]
  },
  {
   "cell_type": "code",
   "execution_count": null,
   "metadata": {
    "colab": {
     "base_uri": "https://localhost:8080/",
     "height": 66,
     "referenced_widgets": [
      "de566c7624c64cb887fe54c604bcae5a",
      "5ca71b42259a4d588389d71efe0788c7",
      "41b2ac4d9862408389f455debb95d218",
      "8e4ab369f57b439784f007facf1f0a78",
      "1c42a7df00fd449d88e28a95eff3a1c9"
     ]
    },
    "id": "3UTDRYri4tt4",
    "outputId": "086c4dcd-8008-436b-c24c-dae6ef4ad959"
   },
   "outputs": [
    {
     "data": {
      "application/vnd.jupyter.widget-view+json": {
       "model_id": "de566c7624c64cb887fe54c604bcae5a",
       "version_major": 2,
       "version_minor": 0
      },
      "text/plain": [
       "Button(description='🔴 Unmount', style=ButtonStyle())"
      ]
     },
     "metadata": {},
     "output_type": "display_data"
    },
    {
     "data": {
      "application/vnd.jupyter.widget-view+json": {
       "model_id": "8e4ab369f57b439784f007facf1f0a78",
       "version_major": 2,
       "version_minor": 0
      },
      "text/plain": [
       "Output()"
      ]
     },
     "metadata": {},
     "output_type": "display_data"
    }
   ],
   "source": [
    "drivemount_button = widgets.Button()\n",
    "drivemount_output = widgets.Output()\n",
    "\n",
    "with drivemount_output:\n",
    "    if drivemount_status:\n",
    "        print('It is now mounted!')\n",
    "        drivemount_button.description = '🔴 Unmount'\n",
    "    else:\n",
    "        print('It is not mounted yet. Click button to mount!')\n",
    "        drivemount_button.description = '🚀 Mount'\n",
    "\n",
    "def drivemount_button_onclick(b):\n",
    "    global drivemount_status\n",
    "    global model_temp_folder\n",
    "    global erc_root_folder\n",
    "\n",
    "    with drivemount_output:\n",
    "        drivemount_output.clear_output()\n",
    "        if drivemount_status:\n",
    "            drive.flush_and_unmount()\n",
    "            erc_root_folder = '/content'\n",
    "            model_temp_folder = '/content'\n",
    "            model_temp_folder = model_temp_folder.rstrip('/')\n",
    "            drivemount_button.description = '🚀 Mount'\n",
    "            drivemount_status = False\n",
    "            print('[UNMOUNTED] It is unmounted right now.')\n",
    "        else:\n",
    "            print('[MOUNTING] Please wait...')\n",
    "            drive.mount('/content/drive')\n",
    "            erc_root_folder = working_path + '/Root'\n",
    "            model_temp_folder = working_path + '/Model_Temp'\n",
    "            model_temp_folder = model_temp_folder.rstrip('/')\n",
    "            drivemount_button.description = '🔴 Unmount'\n",
    "            drivemount_status = True\n",
    "            print('[MOUNTED] Hurrah! It is now mounted!')\n",
    "\n",
    "drivemount_button.on_click(drivemount_button_onclick)\n",
    "\n",
    "widgets_display(drivemount_button, drivemount_output)"
   ]
  },
  {
   "cell_type": "markdown",
   "metadata": {
    "id": "O09aAk74c8wg"
   },
   "source": [
    "# ERC Tokenizer - v2 (with BERT)\n",
    "\n",
    "Before implementing the BERT support, we use pure text to be the token in training. I hope BERT can help us normalizing the matrix and improving the training result."
   ]
  },
  {
   "cell_type": "code",
   "execution_count": null,
   "metadata": {
    "id": "Wu2D5VE4aPtY"
   },
   "outputs": [],
   "source": [
    "tokenizer = BertTokenizer.from_pretrained('bert-base-uncased')"
   ]
  },
  {
   "cell_type": "code",
   "execution_count": null,
   "metadata": {
    "id": "wKq2CJNnWViu"
   },
   "outputs": [],
   "source": [
    "# Parameters preparation.\n",
    "MAX_SENT_LENGTH = 128\n",
    "PAD_TOKEN_ID = tokenizer.convert_tokens_to_ids(tokenizer.pad_token)\n",
    "\n",
    "def normalize_v2(text, entity):\n",
    "    text = text.lower()\n",
    "    entity = entity.lower()\n",
    "    if entity not in text:\n",
    "        return text\n",
    "    text = text.replace(entity, tokenizer.mask_token) # TODO: not sure if this will be decoded by BERT.\n",
    "    return text"
   ]
  },
  {
   "cell_type": "markdown",
   "metadata": {
    "id": "T4FfskSUZzWX"
   },
   "source": [
    "### Data Preprocessing Module\n",
    "\n",
    "Use `data_preprocess(erc_raw_data)` to preprocess the given data into csv files (no return)."
   ]
  },
  {
   "cell_type": "code",
   "execution_count": null,
   "metadata": {
    "id": "4SnRamLjZ5wk"
   },
   "outputs": [],
   "source": [
    "def data_preprocess(ercdata_raw, ercdata_raw_null,\n",
    "                    root_path=erc_root_folder,\n",
    "                    training_portion=0.85,\n",
    "                    validation_portion=0.05,\n",
    "                    testing_portion=0.10):\n",
    "    root_path = root_path.rstrip('/')\n",
    "\n",
    "    # make sure that they are summing up to 1.\n",
    "    assert training_portion + validation_portion + testing_portion == 1.0\n",
    "\n",
    "    # open up writers.\n",
    "    dpre_train_writer = open(root_path + '/dpre_training_data.csv', 'w')\n",
    "    dpre_valid_writer = open(root_path + '/dpre_validation_data.csv', 'w')\n",
    "    dpre_test_writer = open(root_path + '/dpre_testing_data.csv', 'w')\n",
    "\n",
    "    dpre_train_csv_writer = csv.writer(dpre_train_writer, delimiter=',')\n",
    "    dpre_valid_csv_writer = csv.writer(dpre_valid_writer, delimiter=',')\n",
    "    dpre_test_csv_writer = csv.writer(dpre_test_writer, delimiter=',')\n",
    "\n",
    "    # write the header.\n",
    "    dpre_header = ['text', 'label']\n",
    "    dpre_train_csv_writer.writerow(dpre_header)\n",
    "    dpre_valid_csv_writer.writerow(dpre_header)\n",
    "    dpre_test_csv_writer.writerow(dpre_header)\n",
    "\n",
    "    conflicts_count = 0\n",
    "\n",
    "    processed_rows = []\n",
    "\n",
    "    for i in range(len(ercdata_raw)):\n",
    "        # detect if it is conflict.\n",
    "        curr_label = ercdata_raw['finalized_label(is_referring)'].iloc[i]\n",
    "        if curr_label == '[conflict occurring!]': # conflict label processed by annotation system.\n",
    "            conflicts_count += 1\n",
    "            continue\n",
    "\n",
    "        # detect if it is null.\n",
    "        curr_isnull = ercdata_raw_null['finalized_label(is_referring)'].iloc[i]\n",
    "        if curr_isnull:\n",
    "            continue\n",
    "        \n",
    "        # extract the data if it passes all validation tests.\n",
    "        curr_data = normalize_v2(ercdata_raw['text'].iloc[i].lower(), ercdata_raw['target'].iloc[i].lower())\n",
    "        curr_label = 1 if curr_label == 'True' else 0\n",
    "\n",
    "        # buildup the data row.\n",
    "        processed_rows.append([curr_data, curr_label])\n",
    "    \n",
    "    # shuffle the raw data.\n",
    "    random.shuffle(processed_rows)\n",
    "\n",
    "    len_rows = len(processed_rows)\n",
    "    dpre_train_size = int(len_rows * training_portion)\n",
    "    dpre_valid_size = dpre_train_size + int(len_rows * validation_portion)\n",
    "    dpre_test_size = dpre_valid_size + int(len_rows * testing_portion)\n",
    "\n",
    "    raw_train_range = range(dpre_train_size)\n",
    "    raw_valid_range = range(dpre_train_size, dpre_valid_size)\n",
    "    raw_test_range = range(dpre_valid_size, dpre_test_size)\n",
    "\n",
    "    for i in range(len_rows):\n",
    "        if i in raw_train_range:\n",
    "            dpre_train_csv_writer.writerow(processed_rows[i])\n",
    "        elif i in raw_valid_range:\n",
    "            dpre_valid_csv_writer.writerow(processed_rows[i])\n",
    "        elif i in raw_test_range:\n",
    "            dpre_test_csv_writer.writerow(processed_rows[i])\n",
    "\n",
    "    dpre_train_writer.close()\n",
    "    dpre_valid_writer.close()\n",
    "    dpre_test_writer.close()\n",
    "\n",
    "    print('[DATA_PREPROCESSING] DONE! Raw data has {} conflicts in total.'.format(conflicts_count))"
   ]
  },
  {
   "cell_type": "code",
   "execution_count": null,
   "metadata": {
    "id": "DpQxEIwYhU2i"
   },
   "outputs": [],
   "source": [
    "def make_dataset(ercdata_raw_path=erc_root_folder+'/mix_data.csv'):\n",
    "    ercdata_raw = pd.read_csv(ercdata_raw_path)\n",
    "    ercdata_raw_null = ercdata_raw.isnull()\n",
    "\n",
    "    data_preprocess(ercdata_raw, ercdata_raw_null)\n",
    "\n",
    "    dpre_f_text = data.Field(use_vocab=False,\n",
    "                             tokenize=tokenizer.encode,\n",
    "                             lower=False,\n",
    "                             include_lengths=False,\n",
    "                             batch_first=True,\n",
    "                             fix_length=MAX_SENT_LENGTH,\n",
    "                             pad_token=PAD_TOKEN_ID)\n",
    "\n",
    "    dpre_f_label = data.Field(sequential=False, # no tokenization will take place on the label.\n",
    "                              use_vocab=False,\n",
    "                              batch_first=True,\n",
    "                              dtype=torch.int8)\n",
    "\n",
    "    dpre_fields = [('text', dpre_f_text), ('label', dpre_f_label)]\n",
    "\n",
    "    dpre_fields_dict = {\n",
    "        'text': ('text', dpre_f_text),\n",
    "        'label': ('label', dpre_f_label)\n",
    "    }\n",
    "\n",
    "    train_set, valid_set, test_set = TabularDataset.splits(path=erc_root_folder, train='dpre_training_data.csv',\n",
    "                                                           validation='dpre_validation_data.csv',\n",
    "                                                           test='dpre_testing_data.csv',\n",
    "                                                           format='CSV', fields=dpre_fields,\n",
    "                                                           skip_header=True)\n",
    "    \n",
    "    print('[MAKE_DATASET] Training, validation, and testing datasets are ready to go!')\n",
    "    print('[MAKE_DATASET] Dataset size - [TRAIN: {}, VALID: {}, TEST: {}].'.format(len(train_set), len(valid_set), len(test_set)))\n",
    "    print('[MAKE_DATASET] DONE! Enjoy it~')\n",
    "\n",
    "    return train_set, valid_set, test_set"
   ]
  },
  {
   "cell_type": "markdown",
   "metadata": {
    "id": "_kgmbU5d8HVX"
   },
   "source": [
    "# ERC BERT Core Model (`ERCBCM`) - v2\n",
    "\n",
    "In this core model, we are using `BertForSequenceClassification` as a base."
   ]
  },
  {
   "cell_type": "code",
   "execution_count": null,
   "metadata": {
    "id": "mQLeHi996lBA"
   },
   "outputs": [],
   "source": [
    "class ERCBCM(nn.Module):\n",
    "\n",
    "    def __init__(self):\n",
    "        super(ERCBCM, self).__init__()\n",
    "\n",
    "        self.bert_base = BertForSequenceClassification.from_pretrained('bert-base-uncased')\n",
    "\n",
    "    def forward(self, text, label):\n",
    "        loss, text_fea = self.bert_base(text, labels=label)[:2]\n",
    "        return loss, text_fea"
   ]
  },
  {
   "cell_type": "code",
   "execution_count": null,
   "metadata": {
    "id": "x3lpaD8k8zkU"
   },
   "outputs": [],
   "source": [
    "# Save and Load Functions.\n",
    "\n",
    "def save_checkpoint(save_path, model, valid_loss):\n",
    "    if save_path == None:\n",
    "        return\n",
    "    state_dict = {'model_state_dict': model.state_dict(),\n",
    "                  'valid_loss': valid_loss}\n",
    "    torch.save(state_dict, save_path)\n",
    "    print('[SAVE] Model has been saved successfully to \\'{}\\''.format(save_path))\n",
    "\n",
    "def load_checkpoint(load_path, model):\n",
    "    if load_path == None:\n",
    "        return\n",
    "    state_dict = torch.load(load_path, map_location=device)\n",
    "    print('[LOAD] Model has been loaded successfully from \\'{}\\''.format(load_path))\n",
    "    model.load_state_dict(state_dict['model_state_dict'], strict=False)\n",
    "    return state_dict['valid_loss']\n",
    "\n",
    "def save_metrics(save_path, train_loss_list, valid_loss_list, global_steps_list):\n",
    "    if save_path == None:\n",
    "        return\n",
    "    state_dict = {'train_loss_list': train_loss_list,\n",
    "                  'valid_loss_list': valid_loss_list,\n",
    "                  'global_steps_list': global_steps_list}\n",
    "    torch.save(state_dict, save_path)\n",
    "    print('[SAVE] Model with matrics has been saved successfully to \\'{}\\''.format(save_path))\n",
    "\n",
    "def load_metrics(load_path):\n",
    "    if load_path == None:\n",
    "        return\n",
    "    state_dict = torch.load(load_path, map_location=device)\n",
    "    print('[LOAD] Model with matrics has been loaded successfully from \\'{}\\''.format(load_path))\n",
    "    return state_dict['train_loss_list'], state_dict['valid_loss_list'], state_dict['global_steps_list']"
   ]
  },
  {
   "cell_type": "markdown",
   "metadata": {
    "id": "0KzyjsL91eCU"
   },
   "source": [
    "# Main Program of ERC v2\n",
    "\n",
    "We are going to finish these objectives in v2:\n",
    "- BERT Embeddings.\n",
    "- Dataset Splittings.\n",
    "- Live Testing."
   ]
  },
  {
   "cell_type": "code",
   "execution_count": null,
   "metadata": {
    "id": "jbJuGfxGAXyM"
   },
   "outputs": [],
   "source": [
    "# control panel.\n",
    "\n",
    "run_for_training = True  # Toggle it on to train the model."
   ]
  },
  {
   "cell_type": "markdown",
   "metadata": {
    "id": "GXZhPYA14fJF"
   },
   "source": [
    "### Make the dataset"
   ]
  },
  {
   "cell_type": "code",
   "execution_count": null,
   "metadata": {
    "colab": {
     "base_uri": "https://localhost:8080/"
    },
    "id": "TVRczlpxdBO3",
    "outputId": "f85f4af4-3294-43e8-9fea-5ad77ba49357"
   },
   "outputs": [
    {
     "name": "stdout",
     "output_type": "stream",
     "text": [
      "[DATA_PREPROCESSING] DONE! Raw data has 4 conflicts in total.\n",
      "[MAKE_DATASET] Training, validation, and testing datasets are ready to go!\n",
      "[MAKE_DATASET] Dataset size - [TRAIN: 850, VALID: 50, TEST: 100].\n",
      "[MAKE_DATASET] DONE! Enjoy it~\n"
     ]
    }
   ],
   "source": [
    "# Make the dataset from raw data.\n",
    "#  We need this step even if it is for evaluating only.\n",
    "train_set, valid_set, test_set = make_dataset()"
   ]
  },
  {
   "cell_type": "code",
   "execution_count": null,
   "metadata": {
    "id": "oLwSkkrj5ZaM"
   },
   "outputs": [],
   "source": [
    "train_iter = BucketIterator(train_set, batch_size=16, sort_key=lambda x: len(x.text),\n",
    "                            device=device, train=True, sort=True, sort_within_batch=True)\n",
    "valid_iter = BucketIterator(valid_set, batch_size=16, sort_key=lambda x: len(x.text),\n",
    "                            device=device, train=True, sort=True, sort_within_batch=True)\n",
    "test_iter = Iterator(test_set, batch_size=16, device=device, train=False, shuffle=False, sort=False)"
   ]
  },
  {
   "cell_type": "markdown",
   "metadata": {
    "id": "7DH6JzSIBHUE"
   },
   "source": [
    "### Start training\n",
    "\n",
    "We do not need to train it again (e.g. after changing parameters), avoid re-training all the times."
   ]
  },
  {
   "cell_type": "code",
   "execution_count": null,
   "metadata": {
    "colab": {
     "base_uri": "https://localhost:8080/"
    },
    "id": "lW88wJpZ98Qg",
    "outputId": "aa05eb8e-86b3-4c65-fbc4-88c5fbe04bef"
   },
   "outputs": [
    {
     "name": "stderr",
     "output_type": "stream",
     "text": [
      "Some weights of the model checkpoint at bert-base-uncased were not used when initializing BertForSequenceClassification: ['cls.predictions.bias', 'cls.predictions.transform.LayerNorm.weight', 'cls.seq_relationship.bias', 'cls.predictions.transform.LayerNorm.bias', 'cls.seq_relationship.weight', 'cls.predictions.decoder.weight', 'cls.predictions.transform.dense.weight', 'cls.predictions.transform.dense.bias']\n",
      "- This IS expected if you are initializing BertForSequenceClassification from the checkpoint of a model trained on another task or with another architecture (e.g. initializing a BertForSequenceClassification model from a BertForPreTraining model).\n",
      "- This IS NOT expected if you are initializing BertForSequenceClassification from the checkpoint of a model that you expect to be exactly identical (initializing a BertForSequenceClassification model from a BertForSequenceClassification model).\n",
      "Some weights of BertForSequenceClassification were not initialized from the model checkpoint at bert-base-uncased and are newly initialized: ['classifier.weight', 'classifier.bias']\n",
      "You should probably TRAIN this model on a down-stream task to be able to use it for predictions and inference.\n"
     ]
    },
    {
     "name": "stdout",
     "output_type": "stream",
     "text": [
      "Epoch [1/8], Step [27/432], Train Loss: 0.6564, Valid Loss: 0.4187\n",
      "[SAVE] Model has been saved successfully to '/content/drive/MyDrive/UMass/CS 490A - 2021 09 Fall/Final - ERC/Model_Temp/model.pt'\n",
      "[SAVE] Model with matrics has been saved successfully to '/content/drive/MyDrive/UMass/CS 490A - 2021 09 Fall/Final - ERC/Model_Temp/metrics.pt'\n",
      "Epoch [1/8], Step [54/432], Train Loss: 0.3979, Valid Loss: 0.2835\n",
      "[SAVE] Model has been saved successfully to '/content/drive/MyDrive/UMass/CS 490A - 2021 09 Fall/Final - ERC/Model_Temp/model.pt'\n",
      "[SAVE] Model with matrics has been saved successfully to '/content/drive/MyDrive/UMass/CS 490A - 2021 09 Fall/Final - ERC/Model_Temp/metrics.pt'\n",
      "Epoch [2/8], Step [81/432], Train Loss: 0.1989, Valid Loss: 0.1845\n",
      "[SAVE] Model has been saved successfully to '/content/drive/MyDrive/UMass/CS 490A - 2021 09 Fall/Final - ERC/Model_Temp/model.pt'\n",
      "[SAVE] Model with matrics has been saved successfully to '/content/drive/MyDrive/UMass/CS 490A - 2021 09 Fall/Final - ERC/Model_Temp/metrics.pt'\n",
      "Epoch [2/8], Step [108/432], Train Loss: 0.1581, Valid Loss: 0.1471\n",
      "[SAVE] Model has been saved successfully to '/content/drive/MyDrive/UMass/CS 490A - 2021 09 Fall/Final - ERC/Model_Temp/model.pt'\n",
      "[SAVE] Model with matrics has been saved successfully to '/content/drive/MyDrive/UMass/CS 490A - 2021 09 Fall/Final - ERC/Model_Temp/metrics.pt'\n",
      "Epoch [3/8], Step [135/432], Train Loss: 0.1432, Valid Loss: 0.1305\n",
      "[SAVE] Model has been saved successfully to '/content/drive/MyDrive/UMass/CS 490A - 2021 09 Fall/Final - ERC/Model_Temp/model.pt'\n",
      "[SAVE] Model with matrics has been saved successfully to '/content/drive/MyDrive/UMass/CS 490A - 2021 09 Fall/Final - ERC/Model_Temp/metrics.pt'\n",
      "Epoch [3/8], Step [162/432], Train Loss: 0.0797, Valid Loss: 0.1479\n",
      "Epoch [4/8], Step [189/432], Train Loss: 0.0675, Valid Loss: 0.1386\n",
      "Epoch [4/8], Step [216/432], Train Loss: 0.0323, Valid Loss: 0.1799\n",
      "Epoch [5/8], Step [243/432], Train Loss: 0.0431, Valid Loss: 0.1262\n",
      "[SAVE] Model has been saved successfully to '/content/drive/MyDrive/UMass/CS 490A - 2021 09 Fall/Final - ERC/Model_Temp/model.pt'\n",
      "[SAVE] Model with matrics has been saved successfully to '/content/drive/MyDrive/UMass/CS 490A - 2021 09 Fall/Final - ERC/Model_Temp/metrics.pt'\n",
      "Epoch [5/8], Step [270/432], Train Loss: 0.0214, Valid Loss: 0.1220\n",
      "[SAVE] Model has been saved successfully to '/content/drive/MyDrive/UMass/CS 490A - 2021 09 Fall/Final - ERC/Model_Temp/model.pt'\n",
      "[SAVE] Model with matrics has been saved successfully to '/content/drive/MyDrive/UMass/CS 490A - 2021 09 Fall/Final - ERC/Model_Temp/metrics.pt'\n",
      "Epoch [6/8], Step [297/432], Train Loss: 0.0132, Valid Loss: 0.0912\n",
      "[SAVE] Model has been saved successfully to '/content/drive/MyDrive/UMass/CS 490A - 2021 09 Fall/Final - ERC/Model_Temp/model.pt'\n",
      "[SAVE] Model with matrics has been saved successfully to '/content/drive/MyDrive/UMass/CS 490A - 2021 09 Fall/Final - ERC/Model_Temp/metrics.pt'\n",
      "Epoch [6/8], Step [324/432], Train Loss: 0.0156, Valid Loss: 0.1344\n",
      "Epoch [7/8], Step [351/432], Train Loss: 0.0174, Valid Loss: 0.1292\n",
      "Epoch [7/8], Step [378/432], Train Loss: 0.0273, Valid Loss: 0.1537\n",
      "Epoch [8/8], Step [405/432], Train Loss: 0.0076, Valid Loss: 0.0825\n",
      "[SAVE] Model has been saved successfully to '/content/drive/MyDrive/UMass/CS 490A - 2021 09 Fall/Final - ERC/Model_Temp/model.pt'\n",
      "[SAVE] Model with matrics has been saved successfully to '/content/drive/MyDrive/UMass/CS 490A - 2021 09 Fall/Final - ERC/Model_Temp/metrics.pt'\n",
      "Epoch [8/8], Step [432/432], Train Loss: 0.0116, Valid Loss: 0.0784\n",
      "[SAVE] Model has been saved successfully to '/content/drive/MyDrive/UMass/CS 490A - 2021 09 Fall/Final - ERC/Model_Temp/model.pt'\n",
      "[SAVE] Model with matrics has been saved successfully to '/content/drive/MyDrive/UMass/CS 490A - 2021 09 Fall/Final - ERC/Model_Temp/metrics.pt'\n",
      "[SAVE] Model with matrics has been saved successfully to '/content/drive/MyDrive/UMass/CS 490A - 2021 09 Fall/Final - ERC/Model_Temp/metrics.pt'\n",
      "Finished Training!\n"
     ]
    }
   ],
   "source": [
    "# Training Function\n",
    "\n",
    "def train(model,\n",
    "          optimizer,\n",
    "          criterion = nn.BCELoss(),\n",
    "          train_loader = train_iter,\n",
    "          valid_loader = valid_iter,\n",
    "          num_epochs = 8,\n",
    "          eval_every = len(train_iter) // 2,\n",
    "          file_path = model_temp_folder,\n",
    "          best_valid_loss = float(\"Inf\")):\n",
    "    \n",
    "    # initialize running values\n",
    "    running_loss = 0.0\n",
    "    valid_running_loss = 0.0\n",
    "    global_step = 0\n",
    "    train_loss_list = []\n",
    "    valid_loss_list = []\n",
    "    global_steps_list = []\n",
    "\n",
    "    # training loop\n",
    "    model.train()\n",
    "    for epoch in range(num_epochs):\n",
    "        for (text, labels), _ in train_loader:\n",
    "            text = text.type(torch.LongTensor)\n",
    "            text = text.to(device)\n",
    "            labels = labels.type(torch.LongTensor)\n",
    "            labels = labels.to(device)\n",
    "            output = model(text, labels)\n",
    "            loss, _ = output\n",
    "\n",
    "            optimizer.zero_grad()\n",
    "            loss.backward()\n",
    "            optimizer.step()\n",
    "\n",
    "            # update running values.\n",
    "            running_loss += loss.item()\n",
    "            global_step += 1\n",
    "\n",
    "            # evaluation step.\n",
    "            if global_step % eval_every == 0:\n",
    "                model.eval()\n",
    "                with torch.no_grad():\n",
    "                    # validation loop\n",
    "                    for (text, labels), _ in valid_loader:\n",
    "                        text = text.type(torch.LongTensor)\n",
    "                        text = text.to(device)\n",
    "                        labels = labels.type(torch.LongTensor)\n",
    "                        labels = labels.to(device)\n",
    "                        output = model(text, labels)\n",
    "                        loss, _ = output\n",
    "                        valid_running_loss += loss.item()\n",
    "\n",
    "                # evaluation\n",
    "                average_train_loss = running_loss / eval_every\n",
    "                average_valid_loss = valid_running_loss / len(valid_loader)\n",
    "                train_loss_list.append(average_train_loss)\n",
    "                valid_loss_list.append(average_valid_loss)\n",
    "                global_steps_list.append(global_step)\n",
    "\n",
    "                # resetting running values\n",
    "                running_loss = 0.0\n",
    "                valid_running_loss = 0.0\n",
    "                model.train()\n",
    "\n",
    "                # print progress\n",
    "                print('Epoch [{}/{}], Step [{}/{}], Train Loss: {:.4f}, Valid Loss: {:.4f}'\n",
    "                      .format(epoch+1, num_epochs, global_step, num_epochs*len(train_loader),\n",
    "                              average_train_loss, average_valid_loss))\n",
    "                \n",
    "                # checkpoint\n",
    "                if best_valid_loss > average_valid_loss:\n",
    "                    best_valid_loss = average_valid_loss\n",
    "                    save_checkpoint(file_path + '/' + 'model.pt', model, best_valid_loss)\n",
    "                    save_metrics(file_path + '/' + 'metrics.pt', train_loss_list, valid_loss_list, global_steps_list)\n",
    "    \n",
    "    save_metrics(file_path + '/' + 'metrics.pt', train_loss_list, valid_loss_list, global_steps_list)\n",
    "    print('Finished Training!')\n",
    "    model.eval() # stop training.\n",
    "\n",
    "if run_for_training:\n",
    "    model = ERCBCM().to(device)\n",
    "    optimizer = optim.Adam(model.parameters(), lr=2e-5)\n",
    "    train(model=model, optimizer=optimizer)\n",
    "else:\n",
    "    print('Not run for training. Skip.')"
   ]
  },
  {
   "cell_type": "markdown",
   "metadata": {
    "id": "DP1l6JdFBKtM"
   },
   "source": [
    "### Start evaluating"
   ]
  },
  {
   "cell_type": "code",
   "execution_count": null,
   "metadata": {
    "colab": {
     "base_uri": "https://localhost:8080/",
     "height": 316
    },
    "id": "_itbVol0A0Ie",
    "outputId": "3c6000ad-61b8-4a7c-ab64-3c27e16bf12b"
   },
   "outputs": [
    {
     "name": "stdout",
     "output_type": "stream",
     "text": [
      "[LOAD] Model with matrics has been loaded successfully from '/content/drive/MyDrive/UMass/CS 490A - 2021 09 Fall/Final - ERC/Model_Temp/metrics.pt'\n"
     ]
    },
    {
     "data": {
      "image/png": "[encoded data removed]",
      "text/plain": [
       "<Figure size 432x288 with 1 Axes>"
      ]
     },
     "metadata": {
      "needs_background": "light"
     },
     "output_type": "display_data"
    }
   ],
   "source": [
    "train_loss_list, valid_loss_list, global_steps_list = load_metrics(model_temp_folder + '/metrics.pt')\n",
    "plt.plot(global_steps_list, train_loss_list, label='Train')\n",
    "plt.plot(global_steps_list, valid_loss_list, label='Valid')\n",
    "plt.xlabel('Global Steps')\n",
    "plt.ylabel('Loss')\n",
    "plt.legend()\n",
    "plt.show()"
   ]
  },
  {
   "cell_type": "code",
   "execution_count": null,
   "metadata": {
    "colab": {
     "base_uri": "https://localhost:8080/",
     "height": 627
    },
    "id": "HgPmFSPHBOWc",
    "outputId": "3acf4ab1-c0c0-45b5-c8e3-090b0ccdaa64"
   },
   "outputs": [
    {
     "name": "stderr",
     "output_type": "stream",
     "text": [
      "Some weights of the model checkpoint at bert-base-uncased were not used when initializing BertForSequenceClassification: ['cls.predictions.bias', 'cls.predictions.transform.LayerNorm.weight', 'cls.seq_relationship.bias', 'cls.predictions.transform.LayerNorm.bias', 'cls.seq_relationship.weight', 'cls.predictions.decoder.weight', 'cls.predictions.transform.dense.weight', 'cls.predictions.transform.dense.bias']\n",
      "- This IS expected if you are initializing BertForSequenceClassification from the checkpoint of a model trained on another task or with another architecture (e.g. initializing a BertForSequenceClassification model from a BertForPreTraining model).\n",
      "- This IS NOT expected if you are initializing BertForSequenceClassification from the checkpoint of a model that you expect to be exactly identical (initializing a BertForSequenceClassification model from a BertForSequenceClassification model).\n",
      "Some weights of BertForSequenceClassification were not initialized from the model checkpoint at bert-base-uncased and are newly initialized: ['classifier.weight', 'classifier.bias']\n",
      "You should probably TRAIN this model on a down-stream task to be able to use it for predictions and inference.\n"
     ]
    },
    {
     "name": "stdout",
     "output_type": "stream",
     "text": [
      "[LOAD] Model has been loaded successfully from '/content/model.pt'\n",
      "\n",
      "SK-Learn Evaluation Result:\n",
      "\n",
      "              precision    recall  f1-score   support\n",
      "\n",
      "           1     1.0000    1.0000    1.0000        54\n",
      "           0     1.0000    1.0000    1.0000        46\n",
      "\n",
      "    accuracy                         1.0000       100\n",
      "   macro avg     1.0000    1.0000    1.0000       100\n",
      "weighted avg     1.0000    1.0000    1.0000       100\n",
      "\n"
     ]
    },
    {
     "data": {
      "image/png": "[encoded data removed]",
      "text/plain": [
       "<Figure size 432x288 with 2 Axes>"
      ]
     },
     "metadata": {
      "needs_background": "light"
     },
     "output_type": "display_data"
    }
   ],
   "source": [
    "def evaluate(model, test_loader):\n",
    "    y_pred = []\n",
    "    y_true = []\n",
    "\n",
    "    model.eval()\n",
    "    with torch.no_grad():\n",
    "        for (text, labels), _ in test_loader:\n",
    "            labels = labels.type(torch.LongTensor)\n",
    "            labels = labels.to(device)\n",
    "            text = text.type(torch.LongTensor)  \n",
    "            text = text.to(device)\n",
    "            output = model(text, labels)\n",
    "            _, output = output\n",
    "            y_pred.extend(torch.argmax(output, 1).tolist())\n",
    "            y_true.extend(labels.tolist())\n",
    "    \n",
    "    print()\n",
    "    print('SK-Learn Evaluation Result:')\n",
    "    print()\n",
    "    print(metrics.classification_report(y_true, y_pred, labels=[1, 0], digits=4))\n",
    "    \n",
    "    cm = metrics.confusion_matrix(y_true, y_pred, labels=[1, 0])\n",
    "    ax = plt.subplot()\n",
    "\n",
    "    seaborn.heatmap(cm, annot=True, ax=ax, cmap='Blues', fmt=\"d\")\n",
    "\n",
    "    ax.set_title('Confusion Matrix')\n",
    "    ax.set_xlabel('Predicted Labels')\n",
    "    ax.set_ylabel('True Labels')\n",
    "    ax.xaxis.set_ticklabels(['CALLING', 'MENTIONING'])\n",
    "    ax.yaxis.set_ticklabels(['CALLING', 'MENTIONING'])\n",
    "    \n",
    "model_for_evaluate = ERCBCM().to(device)\n",
    "\n",
    "load_checkpoint(model_temp_folder + '/model.pt', model_for_evaluate)\n",
    "\n",
    "evaluate(model_for_evaluate, test_iter)"
   ]
  },
  {
   "cell_type": "code",
   "execution_count": null,
   "metadata": {
    "colab": {
     "base_uri": "https://localhost:8080/",
     "height": 35
    },
    "id": "B4d-ArzHFbTt",
    "outputId": "e18129f9-d78f-464e-9884-d3aaae11b25e"
   },
   "outputs": [
    {
     "data": {
      "application/vnd.google.colaboratory.intrinsic+json": {
       "type": "string"
      },
      "text/plain": [
       "'MENTIONING'"
      ]
     },
     "execution_count": 54,
     "metadata": {},
     "output_type": "execute_result"
    }
   ],
   "source": [
    "def predict(model, sentence, name):\n",
    "    label = torch.tensor([0])\n",
    "    label = label.type(torch.LongTensor)\n",
    "    label = label.to(device)\n",
    "    text = tokenizer.encode(normalize_v2(sentence, name))\n",
    "    text += [PAD_TOKEN_ID] * (128 - len(text))\n",
    "    text = torch.tensor([text])\n",
    "    text = text.type(torch.LongTensor)\n",
    "    text = text.to(device)\n",
    "    _, output = model(text, label)\n",
    "    pred = torch.argmax(output, 1).tolist()[0]\n",
    "    return 'CALLING' if pred == 1 else 'MENTIONING'\n",
    "\n",
    "# test predicting.\n",
    "predict(model_for_evaluate, 'is tommy feeling good about it?', 'tommy')"
   ]
  },
  {
   "cell_type": "markdown",
   "metadata": {
    "id": "U8fM9JdPYtNV"
   },
   "source": [
    "# Finalize Training\n"
   ]
  },
  {
   "cell_type": "code",
   "execution_count": null,
   "metadata": {
    "id": "zO_OddxxYvb1"
   },
   "outputs": [],
   "source": [
    "# # All things related to the finalized model should be put here.\n",
    "# model_finalized = ERCBCM().to(device)\n",
    "# optimizer = optim.Adam(model_finalized.parameters(), lr=2e-5)\n",
    "# train(model=model_finalized, optimizer=optimizer, file_path=erc_root_folder+'/Finalized')"
   ]
  },
  {
   "cell_type": "markdown",
   "metadata": {
    "id": "8rwh-Hr9UtQy"
   },
   "source": [
    "# ERC Live Demo - v1 (with ipywidgets)"
   ]
  },
  {
   "cell_type": "code",
   "execution_count": null,
   "metadata": {
    "colab": {
     "base_uri": "https://localhost:8080/",
     "height": 111,
     "referenced_widgets": [
      "d3efea1b5706401ca3bd960ccd328a24",
      "8168e59f35814540806626b15a08cec9",
      "cca2ddfeaf8847f5ac50fe6485f0dc2b",
      "894e0e866a7d4b1ab9a4d20577c53b57",
      "75bc0ed29e3143dabf3e451af7ebe1dd",
      "6f21b3a3f7104c8a96d01953af53c878",
      "b1dfa5d232014dcfa74fcaab61a91efc",
      "8976b83323004e1e9c8e93951786acc7",
      "efabeacc1977489e92a8e930c6bd4bcc",
      "efc8086c91384988b4dd20c7edee5bf6",
      "7bf752d2e503498bab0df0bd4cd0330e"
     ]
    },
    "id": "R8dDe2-wUFYT",
    "outputId": "f4615239-d447-4f78-d61a-69a12ed5e182"
   },
   "outputs": [
    {
     "data": {
      "application/vnd.jupyter.widget-view+json": {
       "model_id": "d3efea1b5706401ca3bd960ccd328a24",
       "version_major": 2,
       "version_minor": 0
      },
      "text/plain": [
       "Text(value='Jimmy', description='Entity name:', placeholder='Type a name here.')"
      ]
     },
     "metadata": {},
     "output_type": "display_data"
    },
    {
     "data": {
      "application/vnd.jupyter.widget-view+json": {
       "model_id": "894e0e866a7d4b1ab9a4d20577c53b57",
       "version_major": 2,
       "version_minor": 0
      },
      "text/plain": [
       "Text(value='', description='Sentence:', placeholder='Type something here.')"
      ]
     },
     "metadata": {},
     "output_type": "display_data"
    },
    {
     "data": {
      "application/vnd.jupyter.widget-view+json": {
       "model_id": "b1dfa5d232014dcfa74fcaab61a91efc",
       "version_major": 2,
       "version_minor": 0
      },
      "text/plain": [
       "Button(description='Submit', style=ButtonStyle())"
      ]
     },
     "metadata": {},
     "output_type": "display_data"
    },
    {
     "data": {
      "application/vnd.jupyter.widget-view+json": {
       "model_id": "efc8086c91384988b4dd20c7edee5bf6",
       "version_major": 2,
       "version_minor": 0
      },
      "text/plain": [
       "Output()"
      ]
     },
     "metadata": {},
     "output_type": "display_data"
    }
   ],
   "source": [
    "erctest_v2_input_entity = widgets.Text(value='Jimmy',\n",
    "             placeholder='Type a name here.',\n",
    "             description='Entity name:',\n",
    "             disabled=False)\n",
    "erctest_v2_input_text = widgets.Text(value='',\n",
    "             placeholder='Type something here.',\n",
    "             description='Sentence:',\n",
    "             disabled=False)\n",
    "erctest_v2_input_button = widgets.Button(description='Submit')\n",
    "erctest_v2_output = widgets.Output()\n",
    "\n",
    "widgets_display(erctest_v2_input_entity, erctest_v2_input_text, erctest_v2_input_button, erctest_v2_output)\n",
    "\n",
    "def erctest_v2_on_button_clicked(b):\n",
    "    given_sentence = erctest_v2_input_text.value\n",
    "    entity_name = erctest_v2_input_entity.value\n",
    "    if len(entity_name) < 1:\n",
    "        entity_name = 'Jimmy'\n",
    "    result = predict(model_for_evaluate, given_sentence, entity_name)\n",
    "    with erctest_v2_output:\n",
    "        erctest_v2_output.clear_output()\n",
    "        print()\n",
    "        print('Sentence:', given_sentence.lower())\n",
    "        print('Target Entity:', entity_name.lower())\n",
    "        print('Model Result: [{}]'.format(result))\n",
    "\n",
    "erctest_v2_input_button.on_click(erctest_v2_on_button_clicked)"
   ]
  }
 ],
 "metadata": {
  "accelerator": "GPU",
  "colab": {
   "collapsed_sections": [],
   "name": "ERC-v2.ipynb",
   "provenance": []
  },
  "kernelspec": {
   "display_name": "Python 3",
   "language": "python",
   "name": "python3"
  },
  "language_info": {
   "codemirror_mode": {
    "name": "ipython",
    "version": 3
   },
   "file_extension": ".py",
   "mimetype": "text/x-python",
   "name": "python",
   "nbconvert_exporter": "python",
   "pygments_lexer": "ipython3",
   "version": "3.8.5"
  },
  "widgets": {
   "application/vnd.jupyter.widget-state+json": {
    "1c42a7df00fd449d88e28a95eff3a1c9": {
     "model_module": "@jupyter-widgets/base",
     "model_module_version": "1.2.0",
     "model_name": "LayoutModel",
     "state": {
      "_model_module": "@jupyter-widgets/base",
      "_model_module_version": "1.2.0",
      "_model_name": "LayoutModel",
      "_view_count": null,
      "_view_module": "@jupyter-widgets/base",
      "_view_module_version": "1.2.0",
      "_view_name": "LayoutView",
      "align_content": null,
      "align_items": null,
      "align_self": null,
      "border": null,
      "bottom": null,
      "display": null,
      "flex": null,
      "flex_flow": null,
      "grid_area": null,
      "grid_auto_columns": null,
      "grid_auto_flow": null,
      "grid_auto_rows": null,
      "grid_column": null,
      "grid_gap": null,
      "grid_row": null,
      "grid_template_areas": null,
      "grid_template_columns": null,
      "grid_template_rows": null,
      "height": null,
      "justify_content": null,
      "justify_items": null,
      "left": null,
      "margin": null,
      "max_height": null,
      "max_width": null,
      "min_height": null,
      "min_width": null,
      "object_fit": null,
      "object_position": null,
      "order": null,
      "overflow": null,
      "overflow_x": null,
      "overflow_y": null,
      "padding": null,
      "right": null,
      "top": null,
      "visibility": null,
      "width": null
     }
    },
    "41b2ac4d9862408389f455debb95d218": {
     "model_module": "@jupyter-widgets/base",
     "model_module_version": "1.2.0",
     "model_name": "LayoutModel",
     "state": {
      "_model_module": "@jupyter-widgets/base",
      "_model_module_version": "1.2.0",
      "_model_name": "LayoutModel",
      "_view_count": null,
      "_view_module": "@jupyter-widgets/base",
      "_view_module_version": "1.2.0",
      "_view_name": "LayoutView",
      "align_content": null,
      "align_items": null,
      "align_self": null,
      "border": null,
      "bottom": null,
      "display": null,
      "flex": null,
      "flex_flow": null,
      "grid_area": null,
      "grid_auto_columns": null,
      "grid_auto_flow": null,
      "grid_auto_rows": null,
      "grid_column": null,
      "grid_gap": null,
      "grid_row": null,
      "grid_template_areas": null,
      "grid_template_columns": null,
      "grid_template_rows": null,
      "height": null,
      "justify_content": null,
      "justify_items": null,
      "left": null,
      "margin": null,
      "max_height": null,
      "max_width": null,
      "min_height": null,
      "min_width": null,
      "object_fit": null,
      "object_position": null,
      "order": null,
      "overflow": null,
      "overflow_x": null,
      "overflow_y": null,
      "padding": null,
      "right": null,
      "top": null,
      "visibility": null,
      "width": null
     }
    },
    "5ca71b42259a4d588389d71efe0788c7": {
     "model_module": "@jupyter-widgets/controls",
     "model_module_version": "1.5.0",
     "model_name": "ButtonStyleModel",
     "state": {
      "_model_module": "@jupyter-widgets/controls",
      "_model_module_version": "1.5.0",
      "_model_name": "ButtonStyleModel",
      "_view_count": null,
      "_view_module": "@jupyter-widgets/base",
      "_view_module_version": "1.2.0",
      "_view_name": "StyleView",
      "button_color": null,
      "font_weight": ""
     }
    },
    "6f21b3a3f7104c8a96d01953af53c878": {
     "model_module": "@jupyter-widgets/base",
     "model_module_version": "1.2.0",
     "model_name": "LayoutModel",
     "state": {
      "_model_module": "@jupyter-widgets/base",
      "_model_module_version": "1.2.0",
      "_model_name": "LayoutModel",
      "_view_count": null,
      "_view_module": "@jupyter-widgets/base",
      "_view_module_version": "1.2.0",
      "_view_name": "LayoutView",
      "align_content": null,
      "align_items": null,
      "align_self": null,
      "border": null,
      "bottom": null,
      "display": null,
      "flex": null,
      "flex_flow": null,
      "grid_area": null,
      "grid_auto_columns": null,
      "grid_auto_flow": null,
      "grid_auto_rows": null,
      "grid_column": null,
      "grid_gap": null,
      "grid_row": null,
      "grid_template_areas": null,
      "grid_template_columns": null,
      "grid_template_rows": null,
      "height": null,
      "justify_content": null,
      "justify_items": null,
      "left": null,
      "margin": null,
      "max_height": null,
      "max_width": null,
      "min_height": null,
      "min_width": null,
      "object_fit": null,
      "object_position": null,
      "order": null,
      "overflow": null,
      "overflow_x": null,
      "overflow_y": null,
      "padding": null,
      "right": null,
      "top": null,
      "visibility": null,
      "width": null
     }
    },
    "75bc0ed29e3143dabf3e451af7ebe1dd": {
     "model_module": "@jupyter-widgets/controls",
     "model_module_version": "1.5.0",
     "model_name": "DescriptionStyleModel",
     "state": {
      "_model_module": "@jupyter-widgets/controls",
      "_model_module_version": "1.5.0",
      "_model_name": "DescriptionStyleModel",
      "_view_count": null,
      "_view_module": "@jupyter-widgets/base",
      "_view_module_version": "1.2.0",
      "_view_name": "StyleView",
      "description_width": ""
     }
    },
    "7bf752d2e503498bab0df0bd4cd0330e": {
     "model_module": "@jupyter-widgets/base",
     "model_module_version": "1.2.0",
     "model_name": "LayoutModel",
     "state": {
      "_model_module": "@jupyter-widgets/base",
      "_model_module_version": "1.2.0",
      "_model_name": "LayoutModel",
      "_view_count": null,
      "_view_module": "@jupyter-widgets/base",
      "_view_module_version": "1.2.0",
      "_view_name": "LayoutView",
      "align_content": null,
      "align_items": null,
      "align_self": null,
      "border": null,
      "bottom": null,
      "display": null,
      "flex": null,
      "flex_flow": null,
      "grid_area": null,
      "grid_auto_columns": null,
      "grid_auto_flow": null,
      "grid_auto_rows": null,
      "grid_column": null,
      "grid_gap": null,
      "grid_row": null,
      "grid_template_areas": null,
      "grid_template_columns": null,
      "grid_template_rows": null,
      "height": null,
      "justify_content": null,
      "justify_items": null,
      "left": null,
      "margin": null,
      "max_height": null,
      "max_width": null,
      "min_height": null,
      "min_width": null,
      "object_fit": null,
      "object_position": null,
      "order": null,
      "overflow": null,
      "overflow_x": null,
      "overflow_y": null,
      "padding": null,
      "right": null,
      "top": null,
      "visibility": null,
      "width": null
     }
    },
    "8168e59f35814540806626b15a08cec9": {
     "model_module": "@jupyter-widgets/controls",
     "model_module_version": "1.5.0",
     "model_name": "DescriptionStyleModel",
     "state": {
      "_model_module": "@jupyter-widgets/controls",
      "_model_module_version": "1.5.0",
      "_model_name": "DescriptionStyleModel",
      "_view_count": null,
      "_view_module": "@jupyter-widgets/base",
      "_view_module_version": "1.2.0",
      "_view_name": "StyleView",
      "description_width": ""
     }
    },
    "894e0e866a7d4b1ab9a4d20577c53b57": {
     "model_module": "@jupyter-widgets/controls",
     "model_module_version": "1.5.0",
     "model_name": "TextModel",
     "state": {
      "_dom_classes": [],
      "_model_module": "@jupyter-widgets/controls",
      "_model_module_version": "1.5.0",
      "_model_name": "TextModel",
      "_view_count": null,
      "_view_module": "@jupyter-widgets/controls",
      "_view_module_version": "1.5.0",
      "_view_name": "TextView",
      "continuous_update": true,
      "description": "Sentence:",
      "description_tooltip": null,
      "disabled": false,
      "layout": "IPY_MODEL_6f21b3a3f7104c8a96d01953af53c878",
      "placeholder": "Type something here.",
      "style": "IPY_MODEL_75bc0ed29e3143dabf3e451af7ebe1dd",
      "value": ""
     }
    },
    "8976b83323004e1e9c8e93951786acc7": {
     "model_module": "@jupyter-widgets/controls",
     "model_module_version": "1.5.0",
     "model_name": "ButtonStyleModel",
     "state": {
      "_model_module": "@jupyter-widgets/controls",
      "_model_module_version": "1.5.0",
      "_model_name": "ButtonStyleModel",
      "_view_count": null,
      "_view_module": "@jupyter-widgets/base",
      "_view_module_version": "1.2.0",
      "_view_name": "StyleView",
      "button_color": null,
      "font_weight": ""
     }
    },
    "8e4ab369f57b439784f007facf1f0a78": {
     "model_module": "@jupyter-widgets/output",
     "model_module_version": "1.0.0",
     "model_name": "OutputModel",
     "state": {
      "_dom_classes": [],
      "_model_module": "@jupyter-widgets/output",
      "_model_module_version": "1.0.0",
      "_model_name": "OutputModel",
      "_view_count": null,
      "_view_module": "@jupyter-widgets/output",
      "_view_module_version": "1.0.0",
      "_view_name": "OutputView",
      "layout": "IPY_MODEL_1c42a7df00fd449d88e28a95eff3a1c9",
      "msg_id": "",
      "outputs": [
       {
        "name": "stdout",
        "output_type": "stream",
        "text": [
         "[UNMOUNTED] It is unmounted right now.\n"
        ]
       }
      ]
     }
    },
    "b1dfa5d232014dcfa74fcaab61a91efc": {
     "model_module": "@jupyter-widgets/controls",
     "model_module_version": "1.5.0",
     "model_name": "ButtonModel",
     "state": {
      "_dom_classes": [],
      "_model_module": "@jupyter-widgets/controls",
      "_model_module_version": "1.5.0",
      "_model_name": "ButtonModel",
      "_view_count": null,
      "_view_module": "@jupyter-widgets/controls",
      "_view_module_version": "1.5.0",
      "_view_name": "ButtonView",
      "button_style": "",
      "description": "Submit",
      "disabled": false,
      "icon": "",
      "layout": "IPY_MODEL_efabeacc1977489e92a8e930c6bd4bcc",
      "style": "IPY_MODEL_8976b83323004e1e9c8e93951786acc7",
      "tooltip": ""
     }
    },
    "cca2ddfeaf8847f5ac50fe6485f0dc2b": {
     "model_module": "@jupyter-widgets/base",
     "model_module_version": "1.2.0",
     "model_name": "LayoutModel",
     "state": {
      "_model_module": "@jupyter-widgets/base",
      "_model_module_version": "1.2.0",
      "_model_name": "LayoutModel",
      "_view_count": null,
      "_view_module": "@jupyter-widgets/base",
      "_view_module_version": "1.2.0",
      "_view_name": "LayoutView",
      "align_content": null,
      "align_items": null,
      "align_self": null,
      "border": null,
      "bottom": null,
      "display": null,
      "flex": null,
      "flex_flow": null,
      "grid_area": null,
      "grid_auto_columns": null,
      "grid_auto_flow": null,
      "grid_auto_rows": null,
      "grid_column": null,
      "grid_gap": null,
      "grid_row": null,
      "grid_template_areas": null,
      "grid_template_columns": null,
      "grid_template_rows": null,
      "height": null,
      "justify_content": null,
      "justify_items": null,
      "left": null,
      "margin": null,
      "max_height": null,
      "max_width": null,
      "min_height": null,
      "min_width": null,
      "object_fit": null,
      "object_position": null,
      "order": null,
      "overflow": null,
      "overflow_x": null,
      "overflow_y": null,
      "padding": null,
      "right": null,
      "top": null,
      "visibility": null,
      "width": null
     }
    },
    "d3efea1b5706401ca3bd960ccd328a24": {
     "model_module": "@jupyter-widgets/controls",
     "model_module_version": "1.5.0",
     "model_name": "TextModel",
     "state": {
      "_dom_classes": [],
      "_model_module": "@jupyter-widgets/controls",
      "_model_module_version": "1.5.0",
      "_model_name": "TextModel",
      "_view_count": null,
      "_view_module": "@jupyter-widgets/controls",
      "_view_module_version": "1.5.0",
      "_view_name": "TextView",
      "continuous_update": true,
      "description": "Entity name:",
      "description_tooltip": null,
      "disabled": false,
      "layout": "IPY_MODEL_cca2ddfeaf8847f5ac50fe6485f0dc2b",
      "placeholder": "Type a name here.",
      "style": "IPY_MODEL_8168e59f35814540806626b15a08cec9",
      "value": "Jimmy"
     }
    },
    "de566c7624c64cb887fe54c604bcae5a": {
     "model_module": "@jupyter-widgets/controls",
     "model_module_version": "1.5.0",
     "model_name": "ButtonModel",
     "state": {
      "_dom_classes": [],
      "_model_module": "@jupyter-widgets/controls",
      "_model_module_version": "1.5.0",
      "_model_name": "ButtonModel",
      "_view_count": null,
      "_view_module": "@jupyter-widgets/controls",
      "_view_module_version": "1.5.0",
      "_view_name": "ButtonView",
      "button_style": "",
      "description": "🚀 Mount",
      "disabled": false,
      "icon": "",
      "layout": "IPY_MODEL_41b2ac4d9862408389f455debb95d218",
      "style": "IPY_MODEL_5ca71b42259a4d588389d71efe0788c7",
      "tooltip": ""
     }
    },
    "efabeacc1977489e92a8e930c6bd4bcc": {
     "model_module": "@jupyter-widgets/base",
     "model_module_version": "1.2.0",
     "model_name": "LayoutModel",
     "state": {
      "_model_module": "@jupyter-widgets/base",
      "_model_module_version": "1.2.0",
      "_model_name": "LayoutModel",
      "_view_count": null,
      "_view_module": "@jupyter-widgets/base",
      "_view_module_version": "1.2.0",
      "_view_name": "LayoutView",
      "align_content": null,
      "align_items": null,
      "align_self": null,
      "border": null,
      "bottom": null,
      "display": null,
      "flex": null,
      "flex_flow": null,
      "grid_area": null,
      "grid_auto_columns": null,
      "grid_auto_flow": null,
      "grid_auto_rows": null,
      "grid_column": null,
      "grid_gap": null,
      "grid_row": null,
      "grid_template_areas": null,
      "grid_template_columns": null,
      "grid_template_rows": null,
      "height": null,
      "justify_content": null,
      "justify_items": null,
      "left": null,
      "margin": null,
      "max_height": null,
      "max_width": null,
      "min_height": null,
      "min_width": null,
      "object_fit": null,
      "object_position": null,
      "order": null,
      "overflow": null,
      "overflow_x": null,
      "overflow_y": null,
      "padding": null,
      "right": null,
      "top": null,
      "visibility": null,
      "width": null
     }
    },
    "efc8086c91384988b4dd20c7edee5bf6": {
     "model_module": "@jupyter-widgets/output",
     "model_module_version": "1.0.0",
     "model_name": "OutputModel",
     "state": {
      "_dom_classes": [],
      "_model_module": "@jupyter-widgets/output",
      "_model_module_version": "1.0.0",
      "_model_name": "OutputModel",
      "_view_count": null,
      "_view_module": "@jupyter-widgets/output",
      "_view_module_version": "1.0.0",
      "_view_name": "OutputView",
      "layout": "IPY_MODEL_7bf752d2e503498bab0df0bd4cd0330e",
      "msg_id": "",
      "outputs": []
     }
    }
   }
  }
 },
 "nbformat": 4,
 "nbformat_minor": 1
}
